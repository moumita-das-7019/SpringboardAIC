{
 "cells": [
  {
   "cell_type": "markdown",
   "metadata": {},
   "source": [
    "This exercise will require you to pull some data from the Qunadl API. Qaundl is currently the most widely used aggregator of financial market data."
   ]
  },
  {
   "cell_type": "markdown",
   "metadata": {},
   "source": [
    "As a first step, you will need to register a free account on the http://www.quandl.com website."
   ]
  },
  {
   "cell_type": "markdown",
   "metadata": {},
   "source": [
    "After you register, you will be provided with a unique API key, that you should store:"
   ]
  },
  {
   "cell_type": "code",
   "execution_count": 1,
   "metadata": {
    "pycharm": {
     "is_executing": false
    }
   },
   "outputs": [],
   "source": [
    "# Store the API key as a string - according to PEP8, constants are always named in all upper case\n",
    "API_KEY = 'Qv4jgpaVucZdxn-aPdiu'\n",
    "API_URL = 'https://www.quandl.com/api/v3/datasets/{database_code}/{dataset_code}'\n",
    "DATABASE_CODE ='FSE'\n",
    "DATASET_CODE = 'AFX_X'"
   ]
  },
  {
   "cell_type": "markdown",
   "metadata": {},
   "source": [
    "Qaundl has a large number of data sources, but, unfortunately, most of them require a Premium subscription. Still, there are also a good number of free datasets."
   ]
  },
  {
   "cell_type": "markdown",
   "metadata": {},
   "source": [
    "For this mini project, we will focus on equities data from the Frankfurt Stock Exhange (FSE), which is available for free. We'll try and analyze the stock prices of a company called Carl Zeiss Meditec, which manufactures tools for eye examinations, as well as medical lasers for laser eye surgery: https://www.zeiss.com/meditec/int/home.html. The company is listed under the stock ticker AFX_X."
   ]
  },
  {
   "cell_type": "markdown",
   "metadata": {},
   "source": [
    "You can find the detailed Quandl API instructions here: https://docs.quandl.com/docs/time-series"
   ]
  },
  {
   "cell_type": "markdown",
   "metadata": {},
   "source": [
    "While there is a dedicated Python package for connecting to the Quandl API, we would prefer that you use the *requests* package, which can be easily downloaded using *pip* or *conda*. You can find the documentation for the package here: http://docs.python-requests.org/en/master/ "
   ]
  },
  {
   "cell_type": "markdown",
   "metadata": {},
   "source": [
    "Finally, apart from the *requests* package, you are encouraged to not use any third party Python packages, such as *pandas*, and instead focus on what's available in the Python Standard Library (the *collections* module might come in handy: https://pymotw.com/3/collections/).\n",
    "Also, since you won't have access to DataFrames, you are encouraged to us Python's native data structures - preferably dictionaries, though some questions can also be answered using lists.\n",
    "You can read more on these data structures here: https://docs.python.org/3/tutorial/datastructures.html"
   ]
  },
  {
   "cell_type": "markdown",
   "metadata": {},
   "source": [
    "Keep in mind that the JSON responses you will be getting from the API map almost one-to-one to Python's dictionaries. Unfortunately, they can be very nested, so make sure you read up on indexing dictionaries in the documentation provided above."
   ]
  },
  {
   "cell_type": "code",
   "execution_count": 2,
   "metadata": {
    "pycharm": {
     "is_executing": false
    }
   },
   "outputs": [],
   "source": [
    "# First, import the relevant modules\n",
    "import requests\n",
    "import json"
   ]
  },
  {
   "cell_type": "code",
   "execution_count": 3,
   "metadata": {
    "pycharm": {
     "is_executing": false
    }
   },
   "outputs": [],
   "source": [
    "# Now, call the Quandl API and pull out a small sample of the data (only one day) to get a glimpse\n",
    "# into the JSON structure that will be returned\n",
    "query_params = dict(api_key=API_KEY, start_date='2020-05-07', end_date='2020-05-08')\n",
    "url = API_URL.format(database_code=DATABASE_CODE, dataset_code=DATASET_CODE)\n",
    "res = requests.get(url, params=query_params)"
   ]
  },
  {
   "cell_type": "code",
   "execution_count": 4,
   "metadata": {
    "pycharm": {
     "is_executing": false
    }
   },
   "outputs": [
    {
     "name": "stdout",
     "output_type": "stream",
     "text": [
      "{\n",
      "  \"dataset\": {\n",
      "    \"id\": 10095370,\n",
      "    \"dataset_code\": \"AFX_X\",\n",
      "    \"database_code\": \"FSE\",\n",
      "    \"name\": \"Carl Zeiss Meditec (AFX_X)\",\n",
      "    \"description\": \"Stock Prices for Carl Zeiss Meditec (2020-05-08) from the Frankfurt Stock Exchange.<br><br>Trading System: Xetra<br><br>ISIN: DE0005313704\",\n",
      "    \"refreshed_at\": \"2020-05-22T22:16:19.751Z\",\n",
      "    \"newest_available_date\": \"2020-05-22\",\n",
      "    \"oldest_available_date\": \"2000-06-07\",\n",
      "    \"column_names\": [\n",
      "      \"Date\",\n",
      "      \"Open\",\n",
      "      \"High\",\n",
      "      \"Low\",\n",
      "      \"Close\",\n",
      "      \"Change\",\n",
      "      \"Traded Volume\",\n",
      "      \"Turnover\",\n",
      "      \"Last Price of the Day\",\n",
      "      \"Daily Traded Units\",\n",
      "      \"Daily Turnover\"\n",
      "    ],\n",
      "    \"frequency\": \"daily\",\n",
      "    \"type\": \"Time Series\",\n",
      "    \"premium\": false,\n",
      "    \"limit\": null,\n",
      "    \"transform\": null,\n",
      "    \"column_index\": null,\n",
      "    \"start_date\": \"2020-05-07\",\n",
      "    \"end_date\": \"2020-05-08\",\n",
      "    \"data\": [\n",
      "      [\n",
      "        \"2020-05-08\",\n",
      "        96.35,\n",
      "        97.35,\n",
      "        95.15,\n",
      "        95.3,\n",
      "        null,\n",
      "        134071.0,\n",
      "        12869764.45,\n",
      "        null,\n",
      "        null,\n",
      "        null\n",
      "      ],\n",
      "      [\n",
      "        \"2020-05-07\",\n",
      "        94.55,\n",
      "        97.25,\n",
      "        94.25,\n",
      "        96.0,\n",
      "        null,\n",
      "        210096.0,\n",
      "        20200879.55,\n",
      "        null,\n",
      "        null,\n",
      "        null\n",
      "      ]\n",
      "    ],\n",
      "    \"collapse\": null,\n",
      "    \"order\": null,\n",
      "    \"database_id\": 6129\n",
      "  }\n",
      "}\n"
     ]
    }
   ],
   "source": [
    "# Inspect the JSON structure of the object you created, and take note of how nested it is,\n",
    "# as well as the overall structure\n",
    "res_json = json.dumps(res.json(),indent=2)\n",
    "print(res_json)"
   ]
  },
  {
   "cell_type": "markdown",
   "metadata": {},
   "source": [
    "These are your tasks for this mini project:\n",
    "\n",
    "1. Collect data from the Franfurt Stock Exchange, for the ticker AFX_X, for the whole year 2017 (keep in mind that the date format is YYYY-MM-DD).\n",
    "2. Convert the returned JSON object into a Python dictionary.\n",
    "3. Calculate what the highest and lowest opening prices were for the stock in this period.\n",
    "4. What was the largest change in any one day (based on High and Low price)?\n",
    "5. What was the largest change between any two days (based on Closing Price)?\n",
    "6. What was the average daily trading volume during this year?\n",
    "7. (Optional) What was the median trading volume during this year. (Note: you may need to implement your own function for calculating the median.)"
   ]
  },
  {
   "cell_type": "code",
   "execution_count": 5,
   "metadata": {
    "pycharm": {
     "is_executing": false,
     "name": "#%%\n"
    }
   },
   "outputs": [],
   "source": [
    "query_params = dict(api_key=API_KEY, start_date='2017-01-01', end_date='2017-12-31')\n",
    "url = API_URL.format(database_code=DATABASE_CODE, dataset_code=DATASET_CODE)\n",
    "res = requests.get(url, params=query_params)\n",
    "res_json = res.json()\n",
    "data = res_json['dataset']['data']\n",
    "columns = res_json['dataset']['column_names']"
   ]
  },
  {
   "cell_type": "code",
   "execution_count": 6,
   "metadata": {
    "pycharm": {
     "name": "#%%\n"
    }
   },
   "outputs": [],
   "source": [
    "OPEN_COL_INDEX = columns.index('Open')\n",
    "HIGH_COL_INDEX = columns.index('High')\n",
    "LOW_COL_INDEX = columns.index('Low')\n",
    "CLOSE_COL_INDEX = columns.index('Close')\n",
    "TRADE_VOL_INDEX = columns.index('Traded Volume')"
   ]
  },
  {
   "cell_type": "code",
   "execution_count": 7,
   "metadata": {},
   "outputs": [
    {
     "name": "stdout",
     "output_type": "stream",
     "text": [
      "open_high= 53.11\n"
     ]
    }
   ],
   "source": [
    "list_open = [d[OPEN_COL_INDEX] for d in data if d[OPEN_COL_INDEX] != None]\n",
    "open_high = max(list_open)\n",
    "print('open_high=', open_high)"
   ]
  },
  {
   "cell_type": "code",
   "execution_count": 8,
   "metadata": {},
   "outputs": [
    {
     "name": "stdout",
     "output_type": "stream",
     "text": [
      "open_low= 34.0\n"
     ]
    }
   ],
   "source": [
    "open_low = min(list_open)\n",
    "print('open_low=', open_low)"
   ]
  },
  {
   "cell_type": "code",
   "execution_count": 9,
   "metadata": {},
   "outputs": [
    {
     "name": "stdout",
     "output_type": "stream",
     "text": [
      "largest_change= 2.8100000000000023\n"
     ]
    }
   ],
   "source": [
    "list_change = [d[HIGH_COL_INDEX] - d[LOW_COL_INDEX] for d in data]\n",
    "largest_change = max(list_change)\n",
    "print('largest_change=', largest_change)"
   ]
  },
  {
   "cell_type": "code",
   "execution_count": 10,
   "metadata": {},
   "outputs": [
    {
     "name": "stdout",
     "output_type": "stream",
     "text": [
      "largest_change_btw_2_days= 2.559999999999995\n"
     ]
    }
   ],
   "source": [
    "list_change_btw_2_days = [abs(data[i][CLOSE_COL_INDEX] - data[i+1][CLOSE_COL_INDEX]) for i in range(len(data)-1)]\n",
    "largest_change_btw_2_days = max(list_change_btw_2_days)\n",
    "print('largest_change_btw_2_days=', largest_change_btw_2_days)"
   ]
  },
  {
   "cell_type": "code",
   "execution_count": 11,
   "metadata": {
    "pycharm": {
     "name": "#%%\n"
    }
   },
   "outputs": [
    {
     "name": "stdout",
     "output_type": "stream",
     "text": [
      "avg_traded_volume= 89124.33725490196\n"
     ]
    }
   ],
   "source": [
    "list_traded_vol = [d[TRADE_VOL_INDEX] for d in data]\n",
    "avg_traded_volume = sum(list_traded_vol) / len(list_traded_vol)\n",
    "print('avg_traded_volume=', avg_traded_volume)"
   ]
  },
  {
   "cell_type": "code",
   "execution_count": 12,
   "metadata": {
    "pycharm": {
     "name": "#%%\n"
    }
   },
   "outputs": [
    {
     "name": "stdout",
     "output_type": "stream",
     "text": [
      "median_traded_volume= 76286.0\n"
     ]
    }
   ],
   "source": [
    "def median(lst):\n",
    "    lst.sort();\n",
    "    n = len(lst);\n",
    "    if n%2 == 0:\n",
    "        return (lst[n//2 - 1] + lst[n//2])/2;\n",
    "    return lst[n//2];\n",
    "\n",
    "print('median_traded_volume=', median(list_traded_vol))"
   ]
  },
  {
   "cell_type": "code",
   "execution_count": 13,
   "metadata": {
    "pycharm": {
     "name": "#%%\n"
    }
   },
   "outputs": [
    {
     "name": "stdout",
     "output_type": "stream",
     "text": [
      "median_traded_volume= 76286.0\n"
     ]
    }
   ],
   "source": [
    "def median(lst):\n",
    "    lst.sort();\n",
    "    n = len(lst);\n",
    "    if n%2 == 0:\n",
    "        return (lst[n//2 - 1] + lst[n//2])/2;\n",
    "    return lst[n//2];\n",
    "\n",
    "print('median_traded_volume=', median(list_traded_vol))"
   ]
  },
  {
   "cell_type": "code",
   "execution_count": 14,
   "metadata": {
    "pycharm": {
     "name": "#%%\n"
    }
   },
   "outputs": [
    {
     "name": "stdout",
     "output_type": "stream",
     "text": [
      "median_traded_volume= 76286.0\n"
     ]
    }
   ],
   "source": [
    "def median(lst):\n",
    "    lst.sort();\n",
    "    n = len(lst);\n",
    "    if n%2 == 0:\n",
    "        return (lst[n//2 - 1] + lst[n//2])/2;\n",
    "    return lst[n//2];\n",
    "\n",
    "print('median_traded_volume=', median(list_traded_vol))"
   ]
  },
  {
   "cell_type": "code",
   "execution_count": 15,
   "metadata": {
    "pycharm": {
     "name": "#%%\n"
    }
   },
   "outputs": [
    {
     "name": "stdout",
     "output_type": "stream",
     "text": [
      "median_traded_volume= 76286.0\n"
     ]
    }
   ],
   "source": [
    "def median(lst):\n",
    "    lst.sort();\n",
    "    n = len(lst);\n",
    "    if n%2 == 0:\n",
    "        return (lst[n//2 - 1] + lst[n//2])/2;\n",
    "    return lst[n//2];\n",
    "\n",
    "print('median_traded_volume=', median(list_traded_vol))"
   ]
  },
  {
   "cell_type": "code",
   "execution_count": 16,
   "metadata": {
    "pycharm": {
     "name": "#%%\n"
    }
   },
   "outputs": [
    {
     "name": "stdout",
     "output_type": "stream",
     "text": [
      "median_traded_volume= 76286.0\n"
     ]
    }
   ],
   "source": [
    "def median(lst):\n",
    "    lst.sort();\n",
    "    n = len(lst);\n",
    "    if n%2 == 0:\n",
    "        return (lst[n//2 - 1] + lst[n//2])/2;\n",
    "    return lst[n//2];\n",
    "\n",
    "print('median_traded_volume=', median(list_traded_vol))"
   ]
  },
  {
   "cell_type": "code",
   "execution_count": 17,
   "metadata": {},
   "outputs": [
    {
     "name": "stdout",
     "output_type": "stream",
     "text": [
      "median_traded_volume= 76286.0\n"
     ]
    }
   ],
   "source": [
    "def median(lst):\n",
    "    lst.sort();\n",
    "    n = len(lst);\n",
    "    if n%2 == 0:\n",
    "        return (lst[n//2 - 1] + lst[n//2])/2;\n",
    "    return lst[n//2];\n",
    "\n",
    "print('median_traded_volume=', median(list_traded_vol))"
   ]
  },
  {
   "cell_type": "code",
   "execution_count": 18,
   "metadata": {},
   "outputs": [
    {
     "name": "stdout",
     "output_type": "stream",
     "text": [
      "median_traded_volume= 76286.0\n"
     ]
    }
   ],
   "source": [
    "def median(lst):\n",
    "    lst.sort();\n",
    "    n = len(lst);\n",
    "    if n%2 == 0:\n",
    "        return (lst[n//2 - 1] + lst[n//2])/2;\n",
    "    return lst[n//2];\n",
    "\n",
    "print('median_traded_volume=', median(list_traded_vol))"
   ]
  }
 ],
 "metadata": {
  "kernelspec": {
   "display_name": "PyCharm (Springboard)",
   "language": "python",
   "name": "pycharm-d033a403"
  },
  "language_info": {
   "codemirror_mode": {
    "name": "ipython",
    "version": 3
   },
   "file_extension": ".py",
   "mimetype": "text/x-python",
   "name": "python",
   "nbconvert_exporter": "python",
   "pygments_lexer": "ipython3",
   "version": "3.8.1"
  },
  "pycharm": {
   "stem_cell": {
    "cell_type": "raw",
    "metadata": {
     "collapsed": false
    },
    "source": []
   }
  }
 },
 "nbformat": 4,
 "nbformat_minor": 2
}
